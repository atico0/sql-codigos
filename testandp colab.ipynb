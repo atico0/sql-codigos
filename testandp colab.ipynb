{
  "nbformat": 4,
  "nbformat_minor": 0,
  "metadata": {
    "colab": {
      "provenance": [],
      "authorship_tag": "ABX9TyMnGfHSFsKe9HSb+9BTH16C",
      "include_colab_link": true
    },
    "kernelspec": {
      "name": "python3",
      "display_name": "Python 3"
    },
    "language_info": {
      "name": "python"
    }
  },
  "cells": [
    {
      "cell_type": "markdown",
      "metadata": {
        "id": "view-in-github",
        "colab_type": "text"
      },
      "source": [
        "<a href=\"https://colab.research.google.com/github/atico0/sql-codigos/blob/master/testandp%20colab.ipynb\" target=\"_parent\"><img src=\"https://colab.research.google.com/assets/colab-badge.svg\" alt=\"Open In Colab\"/></a>"
      ]
    },
    {
      "cell_type": "code",
      "execution_count": 1,
      "metadata": {
        "id": "VzvhzZgYAJjT",
        "colab": {
          "base_uri": "https://localhost:8080/"
        },
        "outputId": "85bdd94c-cad9-4c7f-9ce7-2e61ab2df69e"
      },
      "outputs": [
        {
          "output_type": "stream",
          "name": "stdout",
          "text": [
            "Mounted at /content/gdrive\n"
          ]
        }
      ],
      "source": [
        "from google.colab import drive\n",
        "drive.mount('/content/gdrive')"
      ]
    },
    {
      "cell_type": "code",
      "source": [],
      "metadata": {
        "id": "zNTpdi1kGi94"
      },
      "execution_count": null,
      "outputs": []
    },
    {
      "cell_type": "code",
      "source": [
        "df"
      ],
      "metadata": {
        "id": "8i-3gGtFCMdv",
        "colab": {
          "base_uri": "https://localhost:8080/",
          "height": 121
        },
        "outputId": "5ccb07af-ebf7-4d9c-f28a-17416a1b376b"
      },
      "execution_count": null,
      "outputs": [
        {
          "output_type": "display_data",
          "data": {
            "text/html": [
              "<pre class=language-r><code>function (x, df1, df2, ncp, log = FALSE) \n",
              "{\n",
              "<span style=white-space:pre-wrap>    if (missing(ncp)) </span>\n",
              "<span style=white-space:pre-wrap>        .Call(C_df, x, df1, df2, log)</span>\n",
              "<span style=white-space:pre-wrap>    else .Call(C_dnf, x, df1, df2, ncp, log)</span>\n",
              "}</code></pre>"
            ],
            "text/markdown": "```r\nfunction (x, df1, df2, ncp, log = FALSE) \n{\n    if (missing(ncp)) \n        .Call(C_df, x, df1, df2, log)\n    else .Call(C_dnf, x, df1, df2, ncp, log)\n}\n```",
            "text/latex": "\\begin{minted}{r}\nfunction (x, df1, df2, ncp, log = FALSE) \n\\{\n    if (missing(ncp)) \n        .Call(C\\_df, x, df1, df2, log)\n    else .Call(C\\_dnf, x, df1, df2, ncp, log)\n\\}\n\\end{minted}",
            "text/plain": [
              "function (x, df1, df2, ncp, log = FALSE) \n",
              "{\n",
              "    if (missing(ncp)) \n",
              "        .Call(C_df, x, df1, df2, log)\n",
              "    else .Call(C_dnf, x, df1, df2, ncp, log)\n",
              "}\n",
              "<bytecode: 0x5ca5bd6bcb50>\n",
              "<environment: namespace:stats>"
            ]
          },
          "metadata": {}
        }
      ]
    },
    {
      "cell_type": "code",
      "source": [
        "!dir gdrive/MyDrive"
      ],
      "metadata": {
        "colab": {
          "base_uri": "https://localhost:8080/"
        },
        "id": "s0p8yPhbISdn",
        "outputId": "1a6228f3-2879-45c2-a26c-cbc95eae157d"
      },
      "execution_count": 5,
      "outputs": [
        {
          "output_type": "stream",
          "name": "stdout",
          "text": [
            "Adobe\\ AIR\n",
            "assunto.pdf\n",
            "atv's\n",
            "Bakery.gsheet\n",
            "bgm\n",
            "Bottom-Tier\\ Character\\ Tomozaki,\\ Vol.\\ 1.pdf\n",
            "Bottom-Tier\\ Character\\ Tomozaki,\\ Vol.\\ 2.pdf\n",
            "Bottom-Tier\\ Character\\ Tomozaki,\\ Vol.\\ 3.pdf\n",
            "Bottom-Tier\\ Character\\ Tomozaki,\\ Vol.\\ 6.5.pdf\n",
            "Bottom-Tier\\ Character\\ Tomozaki,\\ Vol.\\ 7.pdf\n",
            "Cálculo\\ 2.pdf\n",
            "celular\n",
            "Classroom\n",
            "Colab\\ Notebooks\n",
            "Copy\\ of\\ Formulas\\ for\\ Google\\ Sheets\\ Draft.gsheet\n",
            "Data\\ chart\\ template.gsheet\n",
            "EuyUsNRXIAEjzvD.jpg\n",
            "face\n",
            "Fatura\\ Claro.pdf\n",
            "fisher\\ papers.pdf\n",
            "font\n",
            "Goblin\\ Slayer,\\ Vol.\\ 1\\ -\\ Kumo\\ Kagyu.pdf\n",
            "honeygain_app.apk\n",
            "How_to_Avoid_a_Climate_Disaster.epub\n",
            "How_to_Avoid_a_Climate_Disaster.MOBI\n",
            "imagens\n",
            "Learning-Log-Template_Consider-what-data-means-to-you.gdoc\n",
            "map\n",
            "META-INF\n",
            "Módulo\\ 10\\ -\\ Bônus\\ -\\ Análise\\ de\\ Infields\n",
            "Módulo\\ 3\\ -\\ Gatilhos\\ básicos\\ do\\ Medo\\ e\\ como\\ vencê-los\n",
            "Módulo\\ 4\\ -\\ Entrando\\ no\\ estado\\ de\\ flow\n",
            "Módulo\\ 5\\ -\\ Como\\ criar\\ uma\\ mente\\ blindada\\ contra\\ a\\ rejeição\n",
            "Módulo\\ 7\\ -\\ Criando\\ um\\ auto-controle\\ absoluto\n",
            "Módulo\\ 8\\ -\\ Desafios\n",
            "Módulo\\ 9\\ -\\ Bônus\\ -\\ Palestras\n",
            "Monthly\\ Sales\\ -\\ Functions\\ 101.gsheet\n",
            "Monthly\\ Sales.gsheet\n",
            "multicolinearidade_final.pdf\n",
            "musicas\\ ainda\\ não\\ baixadas\n",
            "notebookpythonteste1.ipynb\n",
            "numpy.ipynb\n",
            "Planilha\\ sem\\ título\\ (1).gsheet\n",
            "Planilha\\ sem\\ título.gsheet\n",
            "Population-Latin-and-Caribbean-Countries-2010-2019.xlsx\n",
            "PROTOCOLO\\ LUIS\\ GABRIEL-assinado.pdf\n",
            "readme\n",
            "slides\\ regressao\\ multipla\\ handout-p.pdf\n",
            "Spreadsheet\\ Errors\\ and\\ Fixes\\ Demo\\ Sheets.gsheet\n",
            "tela\\ pro\\ cell\n",
            "thais_carla-OF-LEAK\n",
            "Transformacoes_e_pesagem.pdf\n",
            "Untitled0.ipynb\n",
            "Untitled\\ spreadsheet\\ (1).gsheet\n",
            "Untitled\\ spreadsheet.gsheet\n",
            "ztm\n"
          ]
        }
      ]
    },
    {
      "cell_type": "markdown",
      "source": [],
      "metadata": {
        "id": "v36FvNehJujx"
      }
    },
    {
      "cell_type": "code",
      "source": [
        "!git status"
      ],
      "metadata": {
        "colab": {
          "base_uri": "https://localhost:8080/"
        },
        "id": "av7v8A88Ih4m",
        "outputId": "cb26fa1d-7a2b-452e-fe29-9e7ca39ae1b9"
      },
      "execution_count": 6,
      "outputs": [
        {
          "output_type": "stream",
          "name": "stdout",
          "text": [
            "fatal: not a git repository (or any of the parent directories): .git\n"
          ]
        }
      ]
    }
  ]
}